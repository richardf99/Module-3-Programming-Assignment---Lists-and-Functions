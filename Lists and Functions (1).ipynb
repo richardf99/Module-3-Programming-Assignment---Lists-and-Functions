{
 "cells": [
  {
   "cell_type": "code",
   "execution_count": null,
   "id": "32fd9356-40b9-41d2-800c-96799737d1c3",
   "metadata": {},
   "outputs": [],
   "source": [
    "#7.4 create a list called things\n",
    "things = [\"mozzarella\", \"cinderella\", \"salmonella\"]"
   ]
  },
  {
   "cell_type": "code",
   "execution_count": null,
   "id": "c5c75fce-d0b7-426c-8b28-5ba54a4c587b",
   "metadata": {},
   "outputs": [],
   "source": [
    "#7.5 capitalize the element refferring to person\n",
    "things[1] = things[1].capitalize()\n",
    "print(things)\n",
    "# Output: ['mozzarella', 'Cinderella', 'salmonella']"
   ]
  },
  {
   "cell_type": "code",
   "execution_count": null,
   "id": "dea43117-167c-4063-b627-c855660c3a03",
   "metadata": {},
   "outputs": [],
   "source": [
    "#7.6 make the cheesy element all uppercase\n",
    "things[0] = things[0].upper()\n",
    "print(things)\n",
    "# Output: ['MOZZARELLA', 'Cinderella', 'salmonella']"
   ]
  },
  {
   "cell_type": "code",
   "execution_count": null,
   "id": "dbd1fe65-cd90-4f85-85c3-4ef1169c0b02",
   "metadata": {},
   "outputs": [],
   "source": [
    "#7.7 delete the disease element, the print the list\n",
    "del things[2]\n",
    "print(things)\n",
    "# Output: ['MOZZARELLA', 'Cinderella']"
   ]
  },
  {
   "cell_type": "code",
   "execution_count": null,
   "id": "c6359d5e-c1c9-457d-be6a-4f822919a4de",
   "metadata": {},
   "outputs": [],
   "source": [
    "#9.1 define a function called good that returns a list\n",
    "def good():\n",
    "    return ['Harry', 'Ron', 'Hermione']"
   ]
  },
  {
   "cell_type": "code",
   "execution_count": null,
   "id": "1cc9352e-10df-4f81-a48f-155cbd800298",
   "metadata": {},
   "outputs": [],
   "source": [
    "#9.2 define get-odds \n",
    "def get_odds():\n",
    "    for number in range(10):\n",
    "        if number % 2 != 0:\n",
    "            yield number\n",
    "\n",
    "# Find and print the third value\n",
    "count = 0\n",
    "for num in get_odds():\n",
    "    count += 1\n",
    "    if count == 3:\n",
    "        print(num)\n",
    "        break\n",
    "\n",
    "# Output: 5"
   ]
  }
 ],
 "metadata": {
  "kernelspec": {
   "display_name": "Python [conda env:base] *",
   "language": "python",
   "name": "conda-base-py"
  },
  "language_info": {
   "codemirror_mode": {
    "name": "ipython",
    "version": 3
   },
   "file_extension": ".py",
   "mimetype": "text/x-python",
   "name": "python",
   "nbconvert_exporter": "python",
   "pygments_lexer": "ipython3",
   "version": "3.12.7"
  }
 },
 "nbformat": 4,
 "nbformat_minor": 5
}
